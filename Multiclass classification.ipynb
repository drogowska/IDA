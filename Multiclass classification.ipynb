{
 "cells": [
  {
   "cell_type": "markdown",
   "id": "9052593c",
   "metadata": {},
   "source": [
    "### Multiclass data classification\n",
    "\n",
    "The second problem considered is the multi-class classification task. For this purpose, we will use the well-known Reuters database, published in $1986$, which contains a set of short press articles on $46$ various topics. Of course, each note is classified into only one topic, and each topic has at least $10$ examples in the training data set. Additionally, the Reuters dataset is part of the Keras package. Below we present a fragment of the code whose task is to load the set into the appropriate data tensors."
   ]
  },
  {
   "cell_type": "code",
   "execution_count": 1,
   "id": "5c0a2aed",
   "metadata": {},
   "outputs": [],
   "source": [
    "from tensorflow.keras.datasets import reuters\n",
    "\n",
    "L=100\n",
    "(train_data,train_labels),(test_data,test_labels)=reuters.load_data(num_words=L+4)"
   ]
  },
  {
   "cell_type": "markdown",
   "id": "34ef44eb",
   "metadata": {},
   "source": [
    "This way we can load both the training and the test sets. The **num_words** parameter specifies the maximum number of most frequently occurring keywords. In the analyzed case, this is a number defined as $L$. We add the value $4$ here because the symbols $0$ to $3$ do not describe keywords, similarly to the IMDb database. An example note for $L=100$ might look like this:"
   ]
  },
  {
   "cell_type": "code",
   "execution_count": 2,
   "id": "c569bb5c",
   "metadata": {},
   "outputs": [
    {
     "name": "stdout",
     "output_type": "stream",
     "text": [
      "[1, 2, 2, 8, 43, 10, 2, 5, 25, 2, 2, 5, 2, 2, 16, 2, 2, 90, 67, 7, 89, 5, 19, 102, 6, 19, 2, 15, 90, 67, 84, 22, 2, 26, 7, 48, 4, 49, 8, 2, 39, 2, 2, 6, 2, 6, 83, 11, 15, 22, 2, 11, 15, 7, 48, 9, 2, 2, 2, 6, 2, 6, 2, 11, 15, 22, 2, 44, 11, 15, 16, 8, 2, 2, 90, 67, 52, 29, 2, 30, 32, 2, 6, 2, 15, 17, 12]\n"
     ]
    }
   ],
   "source": [
    "print(train_data[0])"
   ]
  },
  {
   "cell_type": "markdown",
   "id": "5c6c95fe",
   "metadata": {},
   "source": [
    "where individual numbers indicate word indexes in the keyword dictionary. Of course, based on the vector above, we can recreate the note using the code below:"
   ]
  },
  {
   "cell_type": "code",
   "execution_count": 3,
   "id": "bea2c86f",
   "metadata": {},
   "outputs": [
    {
     "name": "stdout",
     "output_type": "stream",
     "text": [
      "? ? ? said as a ? of its ? ? of ? ? it ? ? per share in 1987 of 1 15 to 1 ? dlrs per share up from ? cts in 1986 the company said ? net ? ? to ? to 10 mln dlrs from ? mln dlrs in 1986 and ? ? ? to ? to ? mln dlrs from ? 5 mln dlrs it said ? ? per share this year ? be 2 ? to ? dlrs reuter 3\n"
     ]
    }
   ],
   "source": [
    "def decode_data(data):\n",
    "\n",
    "    dictionary=reuters.get_word_index()\n",
    "    my_dictionary=dict([(k,v) for (v,k) in dictionary.items()])\n",
    "    s=' '.join([my_dictionary.get(d-3,'?') for d in data])\n",
    "    return s\n",
    "\n",
    "print(decode_data(train_data[0]))"
   ]
  },
  {
   "cell_type": "markdown",
   "id": "9b4a91a2",
   "metadata": {},
   "source": [
    "Input data vectors read straight from the database cannot be directly used in the training process, similarly to the previously discussed example. Therefore, it is required to transform them into vectors of fixed length, independent of a specific article. For this purpose, we use a function analogous to the previous example."
   ]
  },
  {
   "cell_type": "code",
   "execution_count": 5,
   "id": "110e182f",
   "metadata": {},
   "outputs": [],
   "source": [
    "import numpy as np\n",
    "\n",
    "def prepare_data(name,data,labels):\n",
    "    global L\n",
    "\n",
    "    x=np.zeros((len(data),L),float)\n",
    "    y=np.zeros((len(data),46),float)\n",
    "    for i in range(0,len(data)):\n",
    "        for j in data[i]:\n",
    "            if (j>=4):\n",
    "                x[i][j-4]+=1.0\n",
    "        if (np.linalg.norm(x[i])>0):\n",
    "            x[i]/=np.linalg.norm(x[i])\n",
    "        y[i][labels[i]]=1.0\n",
    "    np.save(name+'_data.npy',x)\n",
    "    np.save(name+'_labels.npy',y)\n",
    "    return\n",
    "\n",
    "prepare_data('train',train_data,train_labels)\n",
    "prepare_data('test',test_data,test_labels)"
   ]
  },
  {
   "cell_type": "markdown",
   "id": "3d39b00a",
   "metadata": {},
   "source": [
    "After processing, vectors are saved in files with the extension \"\\*.npy\". Note that for the Reuters database we have $8982$ vectors in the training set and $2246$ in the test set. The vectors expected at the output are vectors with $46$ elements and have one value equal to $1$, which determines belonging to one selected class, and the remaining elements are zeroed.\n",
    "\n",
    "The process of training a network model begins with loading training vectors and dividing them into a training and validation set. We use the following code for this:"
   ]
  },
  {
   "cell_type": "code",
   "execution_count": 6,
   "id": "4069824d",
   "metadata": {},
   "outputs": [],
   "source": [
    "train_x=np.load('train_data.npy')\n",
    "train_y=np.load('train_labels.npy')\n",
    "test_x=np.load('test_data.npy')\n",
    "test_y=np.load('test_labels.npy')\n",
    "N=len(train_x)\n",
    "N2=N//2\n",
    "(train2_x,validate_x)=(train_x[0:N2],train_x[N2:N])\n",
    "(train2_y,validate_y)=(train_y[0:N2],train_y[N2:N])"
   ]
  },
  {
   "cell_type": "markdown",
   "id": "2dada0ad",
   "metadata": {},
   "source": [
    "The network training model itself, as well as the structure of the neural network, are topologically similar to the structure considered in the previous task. We therefore use the same number of hidden layers, i.e. three layers, but the size of the input data and, in particular, the output data changes. In the case under consideration, we have $46$ of different classes, which means that we must have $46$ of neurons in the last layer of the network. The following code creates and compiles a network training model."
   ]
  },
  {
   "cell_type": "code",
   "execution_count": 10,
   "id": "1ec9788f",
   "metadata": {},
   "outputs": [],
   "source": [
    "import tensorflow as tf\n",
    "\n",
    "model=tf.keras.models.Sequential()\n",
    "model.add(tf.keras.layers.Dense(2,activation='relu'))\n",
    "model.add(tf.keras.layers.Dense(2,activation='relu'))\n",
    "model.add(tf.keras.layers.Dense(46,activation='softmax'))\n",
    "model.build(input_shape=(N,L))\n",
    "model.compile(optimizer='Adam',loss='categorical_crossentropy',metrics=['accuracy'])"
   ]
  },
  {
   "cell_type": "markdown",
   "id": "808a4c21",
   "metadata": {},
   "source": [
    "In our example model, we use $2$ neurons in the first and second hidden layers. The activation function in these layers is the ReLU function. Those numbers may be not enough.\n",
    "\n",
    "In the last layer, i.e. the output layer, which has $46$ neurons, we use the \"softmax\" activation function for obvious reasons. This function causes the network output, in response to the input vector, to obtain a probability distribution of the input vector belonging to $46$ possible classes. The model compilation assumes the use of the Adam optimizer, and the loss function is categorical cross-correlation (see the previous section). When training the network, we will also use the classification accuracy metric \"accuracy\". The training process itself is started using the following code:"
   ]
  },
  {
   "cell_type": "code",
   "execution_count": 11,
   "id": "2d93262d",
   "metadata": {},
   "outputs": [
    {
     "name": "stdout",
     "output_type": "stream",
     "text": [
      "Epoch 1/50\n",
      "141/141 [==============================] - 1s 4ms/step - loss: 3.6931 - accuracy: 0.1810 - val_loss: 3.4523 - val_accuracy: 0.1690\n",
      "Epoch 2/50\n",
      "141/141 [==============================] - 0s 3ms/step - loss: 3.0746 - accuracy: 0.3327 - val_loss: 2.6637 - val_accuracy: 0.3556\n",
      "Epoch 3/50\n",
      "141/141 [==============================] - 0s 3ms/step - loss: 2.5132 - accuracy: 0.3478 - val_loss: 2.3578 - val_accuracy: 0.3556\n",
      "Epoch 4/50\n",
      "141/141 [==============================] - 0s 3ms/step - loss: 2.3281 - accuracy: 0.3478 - val_loss: 2.2284 - val_accuracy: 0.3556\n",
      "Epoch 5/50\n",
      "141/141 [==============================] - 0s 2ms/step - loss: 2.2299 - accuracy: 0.3478 - val_loss: 2.1543 - val_accuracy: 0.3556\n",
      "Epoch 6/50\n",
      "141/141 [==============================] - 0s 3ms/step - loss: 2.1731 - accuracy: 0.3478 - val_loss: 2.1092 - val_accuracy: 0.3556\n",
      "Epoch 7/50\n",
      "141/141 [==============================] - 0s 2ms/step - loss: 2.1359 - accuracy: 0.3478 - val_loss: 2.0766 - val_accuracy: 0.3556\n",
      "Epoch 8/50\n",
      "141/141 [==============================] - 0s 3ms/step - loss: 2.1077 - accuracy: 0.3480 - val_loss: 2.0516 - val_accuracy: 0.3560\n",
      "Epoch 9/50\n",
      "141/141 [==============================] - 0s 3ms/step - loss: 2.0853 - accuracy: 0.3471 - val_loss: 2.0306 - val_accuracy: 0.3565\n",
      "Epoch 10/50\n",
      "141/141 [==============================] - 0s 3ms/step - loss: 2.0652 - accuracy: 0.3476 - val_loss: 2.0109 - val_accuracy: 0.3563\n",
      "Epoch 11/50\n",
      "141/141 [==============================] - 0s 3ms/step - loss: 2.0473 - accuracy: 0.3489 - val_loss: 1.9942 - val_accuracy: 0.3594\n",
      "Epoch 12/50\n",
      "141/141 [==============================] - 0s 2ms/step - loss: 2.0311 - accuracy: 0.3511 - val_loss: 1.9785 - val_accuracy: 0.3612\n",
      "Epoch 13/50\n",
      "141/141 [==============================] - 0s 3ms/step - loss: 2.0161 - accuracy: 0.3547 - val_loss: 1.9640 - val_accuracy: 0.3661\n",
      "Epoch 14/50\n",
      "141/141 [==============================] - 0s 2ms/step - loss: 2.0023 - accuracy: 0.3609 - val_loss: 1.9518 - val_accuracy: 0.3776\n",
      "Epoch 15/50\n",
      "141/141 [==============================] - 0s 2ms/step - loss: 1.9900 - accuracy: 0.3687 - val_loss: 1.9388 - val_accuracy: 0.3821\n",
      "Epoch 16/50\n",
      "141/141 [==============================] - 0s 3ms/step - loss: 1.9782 - accuracy: 0.3752 - val_loss: 1.9280 - val_accuracy: 0.3910\n",
      "Epoch 17/50\n",
      "141/141 [==============================] - 0s 3ms/step - loss: 1.9678 - accuracy: 0.3830 - val_loss: 1.9181 - val_accuracy: 0.4010\n",
      "Epoch 18/50\n",
      "141/141 [==============================] - 0s 3ms/step - loss: 1.9582 - accuracy: 0.3939 - val_loss: 1.9088 - val_accuracy: 0.4124\n",
      "Epoch 19/50\n",
      "141/141 [==============================] - 0s 2ms/step - loss: 1.9493 - accuracy: 0.4037 - val_loss: 1.9004 - val_accuracy: 0.4195\n",
      "Epoch 20/50\n",
      "141/141 [==============================] - 0s 2ms/step - loss: 1.9415 - accuracy: 0.4106 - val_loss: 1.8953 - val_accuracy: 0.4364\n",
      "Epoch 21/50\n",
      "141/141 [==============================] - 0s 2ms/step - loss: 1.9344 - accuracy: 0.4211 - val_loss: 1.8861 - val_accuracy: 0.4427\n",
      "Epoch 22/50\n",
      "141/141 [==============================] - 0s 2ms/step - loss: 1.9279 - accuracy: 0.4340 - val_loss: 1.8796 - val_accuracy: 0.4395\n",
      "Epoch 23/50\n",
      "141/141 [==============================] - 0s 2ms/step - loss: 1.9215 - accuracy: 0.4362 - val_loss: 1.8740 - val_accuracy: 0.4516\n",
      "Epoch 24/50\n",
      "141/141 [==============================] - 0s 2ms/step - loss: 1.9161 - accuracy: 0.4411 - val_loss: 1.8691 - val_accuracy: 0.4600\n",
      "Epoch 25/50\n",
      "141/141 [==============================] - 0s 2ms/step - loss: 1.9113 - accuracy: 0.4453 - val_loss: 1.8650 - val_accuracy: 0.4663\n",
      "Epoch 26/50\n",
      "141/141 [==============================] - 0s 2ms/step - loss: 1.9070 - accuracy: 0.4480 - val_loss: 1.8601 - val_accuracy: 0.4638\n",
      "Epoch 27/50\n",
      "141/141 [==============================] - 0s 2ms/step - loss: 1.9027 - accuracy: 0.4498 - val_loss: 1.8563 - val_accuracy: 0.4696\n",
      "Epoch 28/50\n",
      "141/141 [==============================] - 0s 2ms/step - loss: 1.8987 - accuracy: 0.4560 - val_loss: 1.8528 - val_accuracy: 0.4874\n",
      "Epoch 29/50\n",
      "141/141 [==============================] - 0s 3ms/step - loss: 1.8952 - accuracy: 0.4752 - val_loss: 1.8502 - val_accuracy: 0.4925\n",
      "Epoch 30/50\n",
      "141/141 [==============================] - 0s 3ms/step - loss: 1.8918 - accuracy: 0.4792 - val_loss: 1.8467 - val_accuracy: 0.4910\n",
      "Epoch 31/50\n",
      "141/141 [==============================] - 0s 3ms/step - loss: 1.8887 - accuracy: 0.4798 - val_loss: 1.8440 - val_accuracy: 0.4923\n",
      "Epoch 32/50\n",
      "141/141 [==============================] - 0s 3ms/step - loss: 1.8863 - accuracy: 0.4834 - val_loss: 1.8425 - val_accuracy: 0.5014\n",
      "Epoch 33/50\n",
      "141/141 [==============================] - 0s 3ms/step - loss: 1.8837 - accuracy: 0.4872 - val_loss: 1.8390 - val_accuracy: 0.4994\n",
      "Epoch 34/50\n",
      "141/141 [==============================] - 0s 2ms/step - loss: 1.8810 - accuracy: 0.4901 - val_loss: 1.8369 - val_accuracy: 0.5035\n",
      "Epoch 35/50\n",
      "141/141 [==============================] - 0s 2ms/step - loss: 1.8787 - accuracy: 0.4974 - val_loss: 1.8352 - val_accuracy: 0.5003\n",
      "Epoch 36/50\n",
      "141/141 [==============================] - 0s 2ms/step - loss: 1.8766 - accuracy: 0.4930 - val_loss: 1.8341 - val_accuracy: 0.5090\n",
      "Epoch 37/50\n",
      "141/141 [==============================] - 0s 2ms/step - loss: 1.8736 - accuracy: 0.4977 - val_loss: 1.8318 - val_accuracy: 0.5039\n",
      "Epoch 38/50\n",
      "141/141 [==============================] - 0s 2ms/step - loss: 1.8718 - accuracy: 0.4999 - val_loss: 1.8295 - val_accuracy: 0.5050\n",
      "Epoch 39/50\n",
      "141/141 [==============================] - 0s 2ms/step - loss: 1.8699 - accuracy: 0.5001 - val_loss: 1.8280 - val_accuracy: 0.5106\n",
      "Epoch 40/50\n",
      "141/141 [==============================] - 0s 2ms/step - loss: 1.8683 - accuracy: 0.5037 - val_loss: 1.8264 - val_accuracy: 0.5099\n",
      "Epoch 41/50\n",
      "141/141 [==============================] - 0s 3ms/step - loss: 1.8664 - accuracy: 0.5019 - val_loss: 1.8253 - val_accuracy: 0.5117\n",
      "Epoch 42/50\n",
      "141/141 [==============================] - 0s 2ms/step - loss: 1.8644 - accuracy: 0.5037 - val_loss: 1.8239 - val_accuracy: 0.5128\n",
      "Epoch 43/50\n",
      "141/141 [==============================] - 0s 2ms/step - loss: 1.8629 - accuracy: 0.5035 - val_loss: 1.8228 - val_accuracy: 0.5126\n",
      "Epoch 44/50\n",
      "141/141 [==============================] - 0s 3ms/step - loss: 1.8617 - accuracy: 0.5043 - val_loss: 1.8215 - val_accuracy: 0.5132\n",
      "Epoch 45/50\n",
      "141/141 [==============================] - 0s 2ms/step - loss: 1.8597 - accuracy: 0.5066 - val_loss: 1.8205 - val_accuracy: 0.5124\n",
      "Epoch 46/50\n",
      "141/141 [==============================] - 0s 3ms/step - loss: 1.8586 - accuracy: 0.5019 - val_loss: 1.8194 - val_accuracy: 0.5166\n",
      "Epoch 47/50\n",
      "141/141 [==============================] - 0s 3ms/step - loss: 1.8572 - accuracy: 0.5081 - val_loss: 1.8184 - val_accuracy: 0.5126\n",
      "Epoch 48/50\n",
      "141/141 [==============================] - 0s 3ms/step - loss: 1.8560 - accuracy: 0.5052 - val_loss: 1.8174 - val_accuracy: 0.5168\n",
      "Epoch 49/50\n",
      "141/141 [==============================] - 0s 2ms/step - loss: 1.8546 - accuracy: 0.5057 - val_loss: 1.8165 - val_accuracy: 0.5150\n",
      "Epoch 50/50\n",
      "141/141 [==============================] - 0s 3ms/step - loss: 1.8530 - accuracy: 0.5066 - val_loss: 1.8157 - val_accuracy: 0.5170\n"
     ]
    }
   ],
   "source": [
    "history=model.fit(train2_x,train2_y,epochs=50,validation_data=(validate_x,validate_y),verbose=True)\n",
    "tf.keras.models.save_model(model,'model_multiclass.h5')"
   ]
  },
  {
   "cell_type": "code",
   "execution_count": 12,
   "id": "5086148e",
   "metadata": {},
   "outputs": [
    {
     "data": {
      "image/png": "[encoded data removed]",
      "text/plain": [
       "<Figure size 640x480 with 1 Axes>"
      ]
     },
     "metadata": {},
     "output_type": "display_data"
    }
   ],
   "source": [
    "import matplotlib.pyplot as plt\n",
    "\n",
    "plt.plot(history.history['loss'])\n",
    "plt.plot(history.history['val_loss'])\n",
    "plt.legend(['loss','validation loss'])\n",
    "plt.show()"
   ]
  },
  {
   "cell_type": "code",
   "execution_count": 13,
   "id": "5a75a9e9",
   "metadata": {},
   "outputs": [
    {
     "data": {
      "image/png": "[encoded data removed]",
      "text/plain": [
       "<Figure size 640x480 with 1 Axes>"
      ]
     },
     "metadata": {},
     "output_type": "display_data"
    }
   ],
   "source": [
    "plt.plot(history.history['accuracy'])\n",
    "plt.plot(history.history['val_accuracy'])\n",
    "plt.legend(['accuracy','validation accuracy'])\n",
    "plt.show()"
   ]
  },
  {
   "cell_type": "markdown",
   "id": "adb87e4b",
   "metadata": {},
   "source": [
    "Once the model is trained and saved to disk in a file, we can read the file and use the saved model multiple times to classify data. For example:"
   ]
  },
  {
   "cell_type": "code",
   "execution_count": 14,
   "id": "9f1176cd",
   "metadata": {},
   "outputs": [
    {
     "name": "stdout",
     "output_type": "stream",
     "text": [
      "1/1 [==============================] - 0s 91ms/step\n",
      "[0.  0.  0.  0.6 0.4 0.  0.  0.  0.  0.  0.  0.  0.  0.  0.  0.  0.  0.\n",
      " 0.  0.  0.  0.  0.  0.  0.  0.  0.  0.  0.  0.  0.  0.  0.  0.  0.  0.\n",
      " 0.  0.  0.  0.  0.  0.  0.  0.  0.  0. ]\n",
      "[0. 0. 0. 1. 0. 0. 0. 0. 0. 0. 0. 0. 0. 0. 0. 0. 0. 0. 0. 0. 0. 0. 0. 0.\n",
      " 0. 0. 0. 0. 0. 0. 0. 0. 0. 0. 0. 0. 0. 0. 0. 0. 0. 0. 0. 0. 0. 0.]\n"
     ]
    }
   ],
   "source": [
    "model=tf.keras.models.load_model('model_multiclass.h5')\n",
    "print(np.round(model.predict(test_x[0:1]),1)[0])\n",
    "print(test_y[0])"
   ]
  },
  {
   "cell_type": "markdown",
   "id": "4dd68c12",
   "metadata": {},
   "source": [
    "We can perform the model evaluation process on the entire test set as follows:"
   ]
  },
  {
   "cell_type": "code",
   "execution_count": 15,
   "id": "f5aa3789",
   "metadata": {},
   "outputs": [
    {
     "name": "stdout",
     "output_type": "stream",
     "text": [
      "71/71 [==============================] - 0s 1ms/step - loss: 1.8565 - accuracy: 0.5076\n"
     ]
    },
    {
     "data": {
      "text/plain": [
       "[1.8564679622650146, 0.5075690150260925]"
      ]
     },
     "execution_count": 15,
     "metadata": {},
     "output_type": "execute_result"
    }
   ],
   "source": [
    "model=tf.keras.models.load_model('model_multiclass.h5')\n",
    "model.evaluate(test_x,test_y)"
   ]
  },
  {
   "cell_type": "markdown",
   "id": "62cb15ef",
   "metadata": {},
   "source": [
    "---"
   ]
  }
 ],
 "metadata": {
  "kernelspec": {
   "display_name": "Python 3 (ipykernel)",
   "language": "python",
   "name": "python3"
  },
  "language_info": {
   "codemirror_mode": {
    "name": "ipython",
    "version": 3
   },
   "file_extension": ".py",
   "mimetype": "text/x-python",
   "name": "python",
   "nbconvert_exporter": "python",
   "pygments_lexer": "ipython3",
   "version": "3.10.8"
  }
 },
 "nbformat": 4,
 "nbformat_minor": 5
}
