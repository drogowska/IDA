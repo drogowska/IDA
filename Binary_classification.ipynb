{
  "cells": [
    {
      "cell_type": "markdown",
      "id": "4a2b909c",
      "metadata": {
        "id": "4a2b909c"
      },
      "source": [
        "### One-class classification\n",
        "\n",
        "To demonstrate how to implement network models in one-class classification, we will use the IMDb (Internet Movies Database) movie review library, which is also available at the following links: https://www.imdb.com/interfaces/ or https://www.kaggle.com/lakshmi25npathi/datasets. In this dataset, we find $50000$ movie reviews that are classified into one of two classes, i.e. positive or negative review. Moreover, this set was divided into a training set ($25000$ reviews) and a test set ($25000$ reviews). In each subset we have exactly half of positive and negative reviews."
      ]
    },
    {
      "cell_type": "markdown",
      "id": "e0e05791",
      "metadata": {
        "id": "e0e05791"
      },
      "source": [
        "#### Prepare input data\n",
        "\n",
        "The IMDb collection is included with the Keras package and has been prepared for direct use, i.e. textual reviews have been converted into vectors of integers, with each number representing a word number (index) key in the dictionary. Additionally, each input vector is assigned a label of $0$ or $1$, which indicates a negative or positive review, respectively."
      ]
    },
    {
      "cell_type": "code",
      "execution_count": 2,
      "id": "0084ebbf",
      "metadata": {
        "colab": {
          "base_uri": "https://localhost:8080/"
        },
        "id": "0084ebbf",
        "outputId": "df6ce1d8-62d0-4e3a-a6c6-250c5a37eece"
      },
      "outputs": [
        {
          "name": "stdout",
          "output_type": "stream",
          "text": [
            "The number of training samples: 25000\n"
          ]
        }
      ],
      "source": [
        "from tensorflow.keras.datasets import imdb\n",
        "import matplotlib.pyplot as plt\n",
        "import tensorflow as tf\n",
        "import numpy as np\n",
        "\n",
        "# a number of keywords\n",
        "L=100\n",
        "# download training and testing datasets limited to L keywords\n",
        "(train_data,train_labels),(test_data,test_labels)=imdb.load_data(num_words=L+4)\n",
        "N=len(train_data)\n",
        "print('The number of training samples:',N)"
      ]
    },
    {
      "cell_type": "markdown",
      "id": "faefbf6f",
      "metadata": {
        "id": "faefbf6f"
      },
      "source": [
        "The imdb.load_data function accepts an argument specifying the number of keywords (the first $L$ most frequently occurring) to be taken into account (the value $L+4$ was entered because the index $0$ is used to complete the vector, $1$ means the start of the review text , $2$ means a word that does not appear in the dictionary, $3$ is not used). The $N$ variable (**N=len(train_data)**) specifies the number of data vectors in the training set. Below is an example input vector describing a sample review with a maximum of $15$ of keywords."
      ]
    },
    {
      "cell_type": "code",
      "execution_count": 3,
      "id": "28c54b56",
      "metadata": {
        "colab": {
          "base_uri": "https://localhost:8080/"
        },
        "id": "28c54b56",
        "outputId": "18f91c3b-e02a-4f0d-9929-13dd5eb48792"
      },
      "outputs": [
        {
          "name": "stdout",
          "output_type": "stream",
          "text": [
            "Exemplary review:\n",
            "[1, 14, 22, 16, 43, 2, 2, 2, 2, 65, 2, 2, 66, 2, 4, 2, 36, 2, 5, 25, 100, 43, 2, 2, 50, 2, 2, 9, 35, 2, 2, 5, 2, 4, 2, 2, 2, 2, 2, 2, 39, 4, 2, 2, 2, 17, 2, 38, 13, 2, 4, 2, 50, 16, 6, 2, 2, 19, 14, 22, 4, 2, 2, 2, 4, 22, 71, 87, 12, 16, 43, 2, 38, 76, 15, 13, 2, 4, 22, 17, 2, 17, 12, 16, 2, 18, 2, 5, 62, 2, 12, 8, 2, 8, 2, 5, 4, 2, 2, 16, 2, 66, 2, 33, 4, 2, 12, 16, 38, 2, 5, 25, 2, 51, 36, 2, 48, 25, 2, 33, 6, 22, 12, 2, 28, 77, 52, 5, 14, 2, 16, 82, 2, 8, 4, 2, 2, 2, 15, 2, 4, 2, 7, 2, 5, 2, 36, 71, 43, 2, 2, 26, 2, 2, 46, 7, 4, 2, 2, 13, 2, 88, 4, 2, 15, 2, 98, 32, 2, 56, 26, 2, 6, 2, 2, 18, 4, 2, 22, 21, 2, 2, 26, 2, 5, 2, 30, 2, 18, 51, 36, 28, 2, 92, 25, 2, 4, 2, 65, 16, 38, 2, 88, 12, 16, 2, 5, 16, 2, 2, 103, 32, 15, 16, 2, 19, 2, 32]\n"
          ]
        }
      ],
      "source": [
        "print('Exemplary review:')\n",
        "print(train_data[0])"
      ]
    },
    {
      "cell_type": "markdown",
      "id": "6e01d6bf",
      "metadata": {
        "id": "6e01d6bf"
      },
      "source": [
        "This way of representing data is not directly suitable for training a neural network model. First of all, it should be noted that each input vector describing a single review may have a different size. Therefore, a process of preparing input data for the neural network training process is required. Since the number of keywords is strictly defined,\n",
        "then we have at least two possibilities here: (I) for each review we can create a vector of length $L$ elements and mark the occurrence of specific keywords with the values $1$, where the keywords are represented by the indexes of the elements in the vector, (II) similarly to the case of (I ), but this time we can count the occurrences of specific words."
      ]
    },
    {
      "cell_type": "code",
      "execution_count": 8,
      "id": "53eafda6",
      "metadata": {},
      "outputs": [],
      "source": [
        "from sklearn.feature_extraction.text import TfidfVectorizer\n",
        "\n",
        "def prepare_data(name,data,labels):\n",
        "    tfidf_vectorizer = TfidfVectorizer(max_features=L)\n",
        "    x_tfidf = tfidf_vectorizer.fit_transform([\" \".join(map(str, review)) for review in data])\n",
        "\n",
        "    # Normalize the TF-IDF vectors\n",
        "    x_tfidf_normalized = x_tfidf / np.linalg.norm(x_tfidf, axis=1, keepdims=True)\n",
        "\n",
        "    # Save TF-IDF data and labels\n",
        "    np.save(name + '_data.npy', x_tfidf_normalized)\n",
        "    np.save(name + '_labels.npy', labels)\n",
        "    \n",
        "prepare_data('train',train_data,train_labels)\n",
        "prepare_data('test',test_data,test_labels)\n",
        "    # Convert reviews to TF-IDF representation\n",
        "    # tfidf_vectorizer = TfidfVectorizer(max_features=L)\n",
        "    # train_data = tfidf_vectorizer.fit_transform([\" \".join(map(str, review)) for review in train_data])\n",
        "    # # train_labels = tfidf_vectorizer.fit_transform([\" \".join(map(str, review)) for review in train_labels])\n",
        "    # test_data = tfidf_vectorizer.transform([\" \".join(map(str, review)) for review in test_data])\n",
        "    # # test_labels = tfidf_vectorizer.transform([\" \".join(map(str, review)) for review in test_labels])\n"
      ]
    },
    {
      "cell_type": "code",
      "execution_count": 4,
      "id": "0f5a7f9e",
      "metadata": {
        "id": "0f5a7f9e"
      },
      "outputs": [],
      "source": [
        "def prepare_data(name,data,labels):\n",
        "    global N,L\n",
        "\n",
        "    x=np.zeros((N,L),float)\n",
        "    y=np.zeros((N,1),float)\n",
        "    for i in range(0,N):\n",
        "        for j in data[i]:\n",
        "            # here we can decide, wether we want to count or indicate the occurences of words\n",
        "            # =1 allows to indicate the occurence of a specific words\n",
        "            # +=1 allows to count the numbers of occurrences\n",
        "            x[i][j-4]=1\n",
        "        # we use normalization in case of counting words\n",
        "        x[i]/=np.linalg.norm(x[i])\n",
        "        y[i]=labels[i]\n",
        "    np.save(name+'_data.npy',x)\n",
        "    np.save(name+'_labels.npy',y)\n",
        "    \n",
        "    return\n",
        "\n",
        "# preparation of input data\n",
        "prepare_data('train',train_data,train_labels)\n",
        "prepare_data('test',test_data,test_labels)"
      ]
    },
    {
      "cell_type": "markdown",
      "id": "85065a69",
      "metadata": {
        "id": "85065a69"
      },
      "source": [
        "Of course, it is possible to recreate individual reviews through a reverse mapping process, i.e. keyword-to-keyword index."
      ]
    },
    {
      "cell_type": "code",
      "execution_count": 5,
      "id": "07639f02",
      "metadata": {
        "colab": {
          "base_uri": "https://localhost:8080/"
        },
        "id": "07639f02",
        "outputId": "67597196-6496-44f4-9ee0-8332631d3367"
      },
      "outputs": [
        {
          "name": "stdout",
          "output_type": "stream",
          "text": [
            "? this film was just ? ? ? ? story ? ? really ? the ? they ? and you could just ? ? there ? ? is an ? ? and ? the ? ? ? ? ? ? from the ? ? ? as ? so i ? the ? there was a ? ? with this film the ? ? ? the film were great it was just ? so much that i ? the film as ? as it was ? for ? and would ? it to ? to ? and the ? ? was ? really ? at the ? it was so ? and you ? what they ? if you ? at a film it ? have been good and this ? was also ? to the ? ? ? that ? the ? of ? and ? they were just ? ? are ? ? out of the ? ? i ? because the ? that ? them all ? up are ? a ? ? for the ? film but ? ? are ? and ? be ? for what they have ? don't you ? the ? story was so ? because it was ? and was ? ? after all that was ? with ? all\n"
          ]
        }
      ],
      "source": [
        "def decode_data(data):\n",
        "\n",
        "    dictionary=imdb.get_word_index()\n",
        "    my_dictionary=dict([(k,v) for (v,k) in dictionary.items()])\n",
        "    s=' '.join([my_dictionary.get(d-3,'?') for d in data])\n",
        "    return s\n",
        "\n",
        "print(decode_data(train_data[0]))"
      ]
    },
    {
      "cell_type": "markdown",
      "id": "17feac14",
      "metadata": {
        "id": "17feac14"
      },
      "source": [
        "The next step is to divide the test set into two parts, i.e. one used for testiung and the other serving as a validation set. In our example, we divide it in half."
      ]
    },
    {
      "cell_type": "code",
      "execution_count": 6,
      "id": "a735944f",
      "metadata": {
        "colab": {
          "base_uri": "https://localhost:8080/"
        },
        "id": "a735944f",
        "outputId": "01d1bb9f-ad09-44b7-93d9-2116b0f09bbb"
      },
      "outputs": [
        {
          "name": "stdout",
          "output_type": "stream",
          "text": [
            "Exemplary vector discribing one review:\n",
            "[0.204 0.204 0.204 0.204 0.204 0.204 0.204 0.    0.    0.204 0.204 0.\n",
            " 0.204 0.    0.    0.    0.    0.    0.    0.204 0.    0.204 0.    0.204\n",
            " 0.204 0.204 0.    0.204 0.204 0.    0.    0.    0.    0.    0.204 0.\n",
            " 0.    0.    0.    0.    0.    0.    0.204 0.    0.    0.    0.    0.\n",
            " 0.    0.    0.    0.    0.    0.    0.    0.    0.    0.    0.    0.\n",
            " 0.    0.    0.    0.    0.    0.    0.    0.    0.    0.    0.    0.\n",
            " 0.    0.    0.    0.    0.    0.    0.    0.    0.    0.    0.    0.\n",
            " 0.    0.204 0.    0.    0.204 0.    0.    0.    0.    0.    0.    0.\n",
            " 0.204 0.204 0.204 0.   ]\n"
          ]
        }
      ],
      "source": [
        "train_x=np.load('train_data.npy')\n",
        "train_y=np.load('train_labels.npy')\n",
        "test_x=np.load('test_data.npy')\n",
        "test_y=np.load('test_labels.npy')\n",
        "N=len(test_x)\n",
        "N2=N//2\n",
        "(test_x,validate_x)=(test_x[0:N2],test_x[N2:N])\n",
        "(test_y,validate_y)=(test_y[0:N2],test_y[N2:N])\n",
        "print('Exemplary vector discribing one review:')\n",
        "print(np.round(test_x[0],3))"
      ]
    },
    {
      "cell_type": "markdown",
      "id": "ba11c34d",
      "metadata": {
        "id": "ba11c34d"
      },
      "source": [
        "#### Construction of a neural network model\n",
        "\n",
        "In the binary classification task under consideration, the input of the neural network is vectors of size $L$-elements ($L$ is the number of the most important keywords), while the output is one value from the range $[0,1]$, which determines the affiliation to one of two classes. A value of $1$ indicates a positive review. In turn, the value $0$ is a negative review.\n",
        "\n",
        "In our example study, we will use a network with one layer and the number of $1$ neuron."
      ]
    },
    {
      "cell_type": "code",
      "execution_count": 12,
      "id": "60bed432",
      "metadata": {
        "colab": {
          "base_uri": "https://localhost:8080/"
        },
        "id": "60bed432",
        "outputId": "4f5c2a58-423c-4220-bf58-e365d1428638"
      },
      "outputs": [
        {
          "name": "stdout",
          "output_type": "stream",
          "text": [
            "Model: \"sequential_1\"\n",
            "_________________________________________________________________\n",
            " Layer (type)                Output Shape              Param #   \n",
            "=================================================================\n",
            " dense_3 (Dense)             (25000, 32)               3232      \n",
            "                                                                 \n",
            " dense_4 (Dense)             (25000, 1)                33        \n",
            "                                                                 \n",
            "=================================================================\n",
            "Total params: 3265 (12.75 KB)\n",
            "Trainable params: 3265 (12.75 KB)\n",
            "Non-trainable params: 0 (0.00 Byte)\n",
            "_________________________________________________________________\n"
          ]
        }
      ],
      "source": [
        "# neural network - building the model\n",
        "model=tf.keras.models.Sequential()\n",
        "# model.add(tf.keras.layers.Embedding(N, 16))\n",
        "# model.add(tf.keras.layers.GlobalAveragePooling1D())\n",
        "model.add(tf.keras.layers.Dense(32,activation='relu'))\n",
        "model.add(tf.keras.layers.Dense(1,activation='sigmoid'))\n",
        "\n",
        "model.build(input_shape=(N,L))\n",
        "# model.compile(optimizer='Adam',loss=tf.keras.losses.MeanSquaredError(),metrics=['accuracy'])\n",
        "model.compile(optimizer='Adam', loss=tf.keras.losses.BinaryCrossentropy(), metrics=['accuracy'])\n",
        "\n",
        "model.summary()"
      ]
    },
    {
      "cell_type": "markdown",
      "id": "ea09a897",
      "metadata": {
        "id": "ea09a897"
      },
      "source": [
        "We carry out the training process taking into account the validation set."
      ]
    },
    {
      "cell_type": "code",
      "execution_count": 13,
      "id": "be4a7054",
      "metadata": {
        "colab": {
          "base_uri": "https://localhost:8080/"
        },
        "id": "be4a7054",
        "outputId": "cf059c10-63d8-40dc-b786-0a8946ecdcd5"
      },
      "outputs": [
        {
          "name": "stdout",
          "output_type": "stream",
          "text": [
            "Epoch 1/100\n",
            "250/250 [==============================] - 3s 6ms/step - loss: 0.6423 - accuracy: 0.6531 - val_loss: 0.5964 - val_accuracy: 0.6939\n",
            "Epoch 2/100\n",
            "250/250 [==============================] - 1s 4ms/step - loss: 0.5794 - accuracy: 0.7006 - val_loss: 0.5661 - val_accuracy: 0.7061\n",
            "Epoch 3/100\n",
            "250/250 [==============================] - 1s 4ms/step - loss: 0.5669 - accuracy: 0.7047 - val_loss: 0.5623 - val_accuracy: 0.7085\n",
            "Epoch 4/100\n",
            "250/250 [==============================] - 1s 4ms/step - loss: 0.5639 - accuracy: 0.7083 - val_loss: 0.5587 - val_accuracy: 0.7129\n",
            "Epoch 5/100\n",
            "250/250 [==============================] - 1s 4ms/step - loss: 0.5632 - accuracy: 0.7059 - val_loss: 0.5583 - val_accuracy: 0.7130\n",
            "Epoch 6/100\n",
            "250/250 [==============================] - 1s 4ms/step - loss: 0.5624 - accuracy: 0.7064 - val_loss: 0.5579 - val_accuracy: 0.7128\n",
            "Epoch 7/100\n",
            "250/250 [==============================] - 1s 4ms/step - loss: 0.5618 - accuracy: 0.7076 - val_loss: 0.5589 - val_accuracy: 0.7122\n",
            "Epoch 8/100\n",
            "250/250 [==============================] - 1s 4ms/step - loss: 0.5619 - accuracy: 0.7068 - val_loss: 0.5580 - val_accuracy: 0.7145\n",
            "Epoch 9/100\n",
            "250/250 [==============================] - 1s 4ms/step - loss: 0.5605 - accuracy: 0.7101 - val_loss: 0.5573 - val_accuracy: 0.7126\n",
            "Epoch 10/100\n",
            "250/250 [==============================] - 1s 4ms/step - loss: 0.5603 - accuracy: 0.7085 - val_loss: 0.5582 - val_accuracy: 0.7134\n",
            "Epoch 11/100\n",
            "250/250 [==============================] - 1s 4ms/step - loss: 0.5593 - accuracy: 0.7087 - val_loss: 0.5575 - val_accuracy: 0.7126\n",
            "Epoch 12/100\n",
            "250/250 [==============================] - 1s 4ms/step - loss: 0.5583 - accuracy: 0.7099 - val_loss: 0.5566 - val_accuracy: 0.7150\n",
            "Epoch 13/100\n",
            "250/250 [==============================] - 1s 4ms/step - loss: 0.5571 - accuracy: 0.7109 - val_loss: 0.5582 - val_accuracy: 0.7093\n",
            "Epoch 14/100\n",
            "250/250 [==============================] - 1s 5ms/step - loss: 0.5567 - accuracy: 0.7107 - val_loss: 0.5570 - val_accuracy: 0.7137\n",
            "Epoch 15/100\n",
            "250/250 [==============================] - 1s 4ms/step - loss: 0.5554 - accuracy: 0.7116 - val_loss: 0.5565 - val_accuracy: 0.7141\n",
            "Epoch 16/100\n",
            "250/250 [==============================] - 1s 4ms/step - loss: 0.5547 - accuracy: 0.7110 - val_loss: 0.5590 - val_accuracy: 0.7066\n",
            "Epoch 17/100\n",
            "250/250 [==============================] - 1s 4ms/step - loss: 0.5534 - accuracy: 0.7138 - val_loss: 0.5561 - val_accuracy: 0.7130\n",
            "Epoch 18/100\n",
            "250/250 [==============================] - 1s 4ms/step - loss: 0.5524 - accuracy: 0.7150 - val_loss: 0.5560 - val_accuracy: 0.7130\n",
            "Epoch 19/100\n",
            "250/250 [==============================] - 1s 4ms/step - loss: 0.5515 - accuracy: 0.7162 - val_loss: 0.5564 - val_accuracy: 0.7139\n",
            "Epoch 20/100\n",
            "250/250 [==============================] - 1s 4ms/step - loss: 0.5511 - accuracy: 0.7149 - val_loss: 0.5570 - val_accuracy: 0.7110\n",
            "Epoch 21/100\n",
            "250/250 [==============================] - 1s 4ms/step - loss: 0.5498 - accuracy: 0.7165 - val_loss: 0.5577 - val_accuracy: 0.7133\n",
            "Epoch 22/100\n",
            "250/250 [==============================] - 1s 4ms/step - loss: 0.5494 - accuracy: 0.7177 - val_loss: 0.5557 - val_accuracy: 0.7155\n",
            "Epoch 23/100\n",
            "250/250 [==============================] - 1s 4ms/step - loss: 0.5481 - accuracy: 0.7200 - val_loss: 0.5556 - val_accuracy: 0.7150\n",
            "Epoch 24/100\n",
            "250/250 [==============================] - 1s 6ms/step - loss: 0.5474 - accuracy: 0.7192 - val_loss: 0.5563 - val_accuracy: 0.7145\n",
            "Epoch 25/100\n",
            "250/250 [==============================] - 1s 4ms/step - loss: 0.5463 - accuracy: 0.7199 - val_loss: 0.5557 - val_accuracy: 0.7132\n",
            "Epoch 26/100\n",
            "250/250 [==============================] - 1s 4ms/step - loss: 0.5459 - accuracy: 0.7204 - val_loss: 0.5562 - val_accuracy: 0.7128\n",
            "Epoch 27/100\n",
            "250/250 [==============================] - 1s 4ms/step - loss: 0.5446 - accuracy: 0.7217 - val_loss: 0.5554 - val_accuracy: 0.7152\n",
            "Epoch 28/100\n",
            "250/250 [==============================] - 1s 4ms/step - loss: 0.5437 - accuracy: 0.7230 - val_loss: 0.5613 - val_accuracy: 0.7099\n",
            "Epoch 29/100\n",
            "250/250 [==============================] - 1s 4ms/step - loss: 0.5433 - accuracy: 0.7226 - val_loss: 0.5559 - val_accuracy: 0.7140\n",
            "Epoch 30/100\n",
            "250/250 [==============================] - 1s 4ms/step - loss: 0.5416 - accuracy: 0.7237 - val_loss: 0.5560 - val_accuracy: 0.7145\n",
            "Epoch 31/100\n",
            "250/250 [==============================] - 1s 4ms/step - loss: 0.5412 - accuracy: 0.7260 - val_loss: 0.5571 - val_accuracy: 0.7116\n",
            "Epoch 32/100\n",
            "250/250 [==============================] - 1s 4ms/step - loss: 0.5403 - accuracy: 0.7260 - val_loss: 0.5582 - val_accuracy: 0.7101\n",
            "Epoch 33/100\n",
            "250/250 [==============================] - 1s 4ms/step - loss: 0.5405 - accuracy: 0.7256 - val_loss: 0.5569 - val_accuracy: 0.7138\n",
            "Epoch 34/100\n",
            "250/250 [==============================] - 1s 4ms/step - loss: 0.5387 - accuracy: 0.7266 - val_loss: 0.5562 - val_accuracy: 0.7137\n",
            "Epoch 35/100\n",
            "250/250 [==============================] - 1s 4ms/step - loss: 0.5387 - accuracy: 0.7274 - val_loss: 0.5563 - val_accuracy: 0.7128\n",
            "Epoch 36/100\n",
            "250/250 [==============================] - 1s 4ms/step - loss: 0.5376 - accuracy: 0.7274 - val_loss: 0.5620 - val_accuracy: 0.7077\n",
            "Epoch 37/100\n",
            "250/250 [==============================] - 1s 4ms/step - loss: 0.5366 - accuracy: 0.7286 - val_loss: 0.5578 - val_accuracy: 0.7122\n",
            "Epoch 38/100\n",
            "250/250 [==============================] - 1s 4ms/step - loss: 0.5359 - accuracy: 0.7284 - val_loss: 0.5566 - val_accuracy: 0.7124\n",
            "Epoch 39/100\n",
            "250/250 [==============================] - 1s 4ms/step - loss: 0.5349 - accuracy: 0.7291 - val_loss: 0.5568 - val_accuracy: 0.7131\n",
            "Epoch 40/100\n",
            "250/250 [==============================] - 1s 4ms/step - loss: 0.5342 - accuracy: 0.7303 - val_loss: 0.5574 - val_accuracy: 0.7120\n",
            "Epoch 41/100\n",
            "250/250 [==============================] - 1s 4ms/step - loss: 0.5336 - accuracy: 0.7306 - val_loss: 0.5570 - val_accuracy: 0.7112\n",
            "Epoch 42/100\n",
            "250/250 [==============================] - 1s 4ms/step - loss: 0.5328 - accuracy: 0.7314 - val_loss: 0.5570 - val_accuracy: 0.7125\n",
            "Epoch 43/100\n",
            "250/250 [==============================] - 1s 4ms/step - loss: 0.5321 - accuracy: 0.7320 - val_loss: 0.5606 - val_accuracy: 0.7094\n",
            "Epoch 44/100\n",
            "250/250 [==============================] - 1s 4ms/step - loss: 0.5318 - accuracy: 0.7320 - val_loss: 0.5576 - val_accuracy: 0.7105\n",
            "Epoch 45/100\n",
            "250/250 [==============================] - 1s 4ms/step - loss: 0.5306 - accuracy: 0.7326 - val_loss: 0.5577 - val_accuracy: 0.7114\n",
            "Epoch 46/100\n",
            "250/250 [==============================] - 1s 4ms/step - loss: 0.5298 - accuracy: 0.7325 - val_loss: 0.5577 - val_accuracy: 0.7114\n",
            "Epoch 47/100\n",
            "250/250 [==============================] - 1s 4ms/step - loss: 0.5291 - accuracy: 0.7335 - val_loss: 0.5583 - val_accuracy: 0.7107\n",
            "Epoch 48/100\n",
            "250/250 [==============================] - 1s 4ms/step - loss: 0.5290 - accuracy: 0.7356 - val_loss: 0.5624 - val_accuracy: 0.7085\n",
            "Epoch 49/100\n",
            "250/250 [==============================] - 1s 4ms/step - loss: 0.5281 - accuracy: 0.7337 - val_loss: 0.5592 - val_accuracy: 0.7113\n",
            "Epoch 50/100\n",
            "250/250 [==============================] - 1s 4ms/step - loss: 0.5276 - accuracy: 0.7367 - val_loss: 0.5586 - val_accuracy: 0.7123\n",
            "Epoch 51/100\n",
            "250/250 [==============================] - 1s 4ms/step - loss: 0.5265 - accuracy: 0.7364 - val_loss: 0.5599 - val_accuracy: 0.7114\n",
            "Epoch 52/100\n",
            "250/250 [==============================] - 1s 4ms/step - loss: 0.5261 - accuracy: 0.7372 - val_loss: 0.5588 - val_accuracy: 0.7111\n",
            "Epoch 53/100\n",
            "250/250 [==============================] - 1s 4ms/step - loss: 0.5254 - accuracy: 0.7350 - val_loss: 0.5606 - val_accuracy: 0.7112\n",
            "Epoch 54/100\n",
            "250/250 [==============================] - 1s 4ms/step - loss: 0.5248 - accuracy: 0.7369 - val_loss: 0.5611 - val_accuracy: 0.7082\n",
            "Epoch 55/100\n",
            "250/250 [==============================] - 1s 5ms/step - loss: 0.5238 - accuracy: 0.7384 - val_loss: 0.5604 - val_accuracy: 0.7107\n",
            "Epoch 56/100\n",
            "250/250 [==============================] - 1s 4ms/step - loss: 0.5233 - accuracy: 0.7383 - val_loss: 0.5597 - val_accuracy: 0.7096\n",
            "Epoch 57/100\n",
            "250/250 [==============================] - 1s 4ms/step - loss: 0.5224 - accuracy: 0.7394 - val_loss: 0.5608 - val_accuracy: 0.7091\n",
            "Epoch 58/100\n",
            "250/250 [==============================] - 1s 5ms/step - loss: 0.5226 - accuracy: 0.7382 - val_loss: 0.5618 - val_accuracy: 0.7090\n",
            "Epoch 59/100\n",
            "250/250 [==============================] - 1s 5ms/step - loss: 0.5212 - accuracy: 0.7396 - val_loss: 0.5613 - val_accuracy: 0.7102\n",
            "Epoch 60/100\n",
            "250/250 [==============================] - 1s 4ms/step - loss: 0.5207 - accuracy: 0.7394 - val_loss: 0.5612 - val_accuracy: 0.7086\n",
            "Epoch 61/100\n",
            "250/250 [==============================] - 1s 5ms/step - loss: 0.5200 - accuracy: 0.7403 - val_loss: 0.5617 - val_accuracy: 0.7098\n",
            "Epoch 62/100\n",
            "250/250 [==============================] - 1s 5ms/step - loss: 0.5193 - accuracy: 0.7409 - val_loss: 0.5608 - val_accuracy: 0.7082\n",
            "Epoch 63/100\n",
            "250/250 [==============================] - 1s 4ms/step - loss: 0.5188 - accuracy: 0.7433 - val_loss: 0.5619 - val_accuracy: 0.7087\n",
            "Epoch 64/100\n",
            "250/250 [==============================] - 1s 4ms/step - loss: 0.5185 - accuracy: 0.7419 - val_loss: 0.5620 - val_accuracy: 0.7104\n",
            "Epoch 65/100\n",
            "250/250 [==============================] - 1s 4ms/step - loss: 0.5172 - accuracy: 0.7418 - val_loss: 0.5619 - val_accuracy: 0.7094\n",
            "Epoch 66/100\n",
            "250/250 [==============================] - 1s 4ms/step - loss: 0.5173 - accuracy: 0.7428 - val_loss: 0.5623 - val_accuracy: 0.7090\n",
            "Epoch 67/100\n",
            "250/250 [==============================] - 1s 4ms/step - loss: 0.5165 - accuracy: 0.7426 - val_loss: 0.5639 - val_accuracy: 0.7054\n",
            "Epoch 68/100\n",
            "250/250 [==============================] - 1s 4ms/step - loss: 0.5156 - accuracy: 0.7444 - val_loss: 0.5628 - val_accuracy: 0.7079\n",
            "Epoch 69/100\n",
            "250/250 [==============================] - 1s 4ms/step - loss: 0.5153 - accuracy: 0.7456 - val_loss: 0.5637 - val_accuracy: 0.7082\n",
            "Epoch 70/100\n",
            "250/250 [==============================] - 1s 4ms/step - loss: 0.5151 - accuracy: 0.7453 - val_loss: 0.5633 - val_accuracy: 0.7084\n",
            "Epoch 71/100\n",
            "250/250 [==============================] - 1s 4ms/step - loss: 0.5147 - accuracy: 0.7448 - val_loss: 0.5654 - val_accuracy: 0.7050\n",
            "Epoch 72/100\n",
            "250/250 [==============================] - 1s 4ms/step - loss: 0.5139 - accuracy: 0.7437 - val_loss: 0.5643 - val_accuracy: 0.7089\n",
            "Epoch 73/100\n",
            "250/250 [==============================] - 1s 4ms/step - loss: 0.5125 - accuracy: 0.7466 - val_loss: 0.5652 - val_accuracy: 0.7074\n",
            "Epoch 74/100\n",
            "250/250 [==============================] - 1s 4ms/step - loss: 0.5127 - accuracy: 0.7473 - val_loss: 0.5650 - val_accuracy: 0.7046\n",
            "Epoch 75/100\n",
            "250/250 [==============================] - 1s 4ms/step - loss: 0.5122 - accuracy: 0.7484 - val_loss: 0.5650 - val_accuracy: 0.7070\n",
            "Epoch 76/100\n",
            "250/250 [==============================] - 1s 4ms/step - loss: 0.5115 - accuracy: 0.7459 - val_loss: 0.5668 - val_accuracy: 0.7038\n",
            "Epoch 77/100\n",
            "250/250 [==============================] - 1s 4ms/step - loss: 0.5112 - accuracy: 0.7470 - val_loss: 0.5687 - val_accuracy: 0.7030\n",
            "Epoch 78/100\n",
            "250/250 [==============================] - 1s 5ms/step - loss: 0.5106 - accuracy: 0.7490 - val_loss: 0.5655 - val_accuracy: 0.7066\n",
            "Epoch 79/100\n",
            "250/250 [==============================] - 1s 4ms/step - loss: 0.5100 - accuracy: 0.7472 - val_loss: 0.5670 - val_accuracy: 0.7070\n",
            "Epoch 80/100\n",
            "250/250 [==============================] - 1s 4ms/step - loss: 0.5102 - accuracy: 0.7484 - val_loss: 0.5678 - val_accuracy: 0.7039\n",
            "Epoch 81/100\n",
            "250/250 [==============================] - 1s 4ms/step - loss: 0.5091 - accuracy: 0.7490 - val_loss: 0.5669 - val_accuracy: 0.7050\n",
            "Epoch 82/100\n",
            "250/250 [==============================] - 1s 4ms/step - loss: 0.5088 - accuracy: 0.7489 - val_loss: 0.5674 - val_accuracy: 0.7056\n",
            "Epoch 83/100\n",
            "250/250 [==============================] - 1s 4ms/step - loss: 0.5087 - accuracy: 0.7467 - val_loss: 0.5670 - val_accuracy: 0.7073\n",
            "Epoch 84/100\n",
            "250/250 [==============================] - 1s 4ms/step - loss: 0.5083 - accuracy: 0.7494 - val_loss: 0.5682 - val_accuracy: 0.7042\n",
            "Epoch 85/100\n",
            "250/250 [==============================] - 1s 4ms/step - loss: 0.5075 - accuracy: 0.7481 - val_loss: 0.5682 - val_accuracy: 0.7050\n",
            "Epoch 86/100\n",
            "250/250 [==============================] - 1s 4ms/step - loss: 0.5068 - accuracy: 0.7503 - val_loss: 0.5683 - val_accuracy: 0.7044\n",
            "Epoch 87/100\n",
            "250/250 [==============================] - 1s 4ms/step - loss: 0.5057 - accuracy: 0.7511 - val_loss: 0.5682 - val_accuracy: 0.7060\n",
            "Epoch 88/100\n",
            "250/250 [==============================] - 1s 4ms/step - loss: 0.5056 - accuracy: 0.7521 - val_loss: 0.5774 - val_accuracy: 0.6973\n",
            "Epoch 89/100\n",
            "250/250 [==============================] - 1s 4ms/step - loss: 0.5068 - accuracy: 0.7506 - val_loss: 0.5710 - val_accuracy: 0.7022\n",
            "Epoch 90/100\n",
            "250/250 [==============================] - 1s 4ms/step - loss: 0.5052 - accuracy: 0.7507 - val_loss: 0.5802 - val_accuracy: 0.6938\n",
            "Epoch 91/100\n",
            "250/250 [==============================] - 1s 4ms/step - loss: 0.5046 - accuracy: 0.7507 - val_loss: 0.5703 - val_accuracy: 0.7046\n",
            "Epoch 92/100\n",
            "250/250 [==============================] - 1s 4ms/step - loss: 0.5039 - accuracy: 0.7533 - val_loss: 0.5710 - val_accuracy: 0.7038\n",
            "Epoch 93/100\n",
            "250/250 [==============================] - 1s 4ms/step - loss: 0.5034 - accuracy: 0.7513 - val_loss: 0.5705 - val_accuracy: 0.7050\n",
            "Epoch 94/100\n",
            "250/250 [==============================] - 1s 4ms/step - loss: 0.5029 - accuracy: 0.7534 - val_loss: 0.5717 - val_accuracy: 0.7041\n",
            "Epoch 95/100\n",
            "250/250 [==============================] - 1s 4ms/step - loss: 0.5027 - accuracy: 0.7536 - val_loss: 0.5712 - val_accuracy: 0.7058\n",
            "Epoch 96/100\n",
            "250/250 [==============================] - 1s 4ms/step - loss: 0.5020 - accuracy: 0.7538 - val_loss: 0.5718 - val_accuracy: 0.7054\n",
            "Epoch 97/100\n",
            "250/250 [==============================] - 1s 4ms/step - loss: 0.5023 - accuracy: 0.7528 - val_loss: 0.5722 - val_accuracy: 0.7046\n",
            "Epoch 98/100\n",
            "250/250 [==============================] - 1s 4ms/step - loss: 0.5009 - accuracy: 0.7558 - val_loss: 0.5761 - val_accuracy: 0.7049\n",
            "Epoch 99/100\n",
            "250/250 [==============================] - 1s 4ms/step - loss: 0.5017 - accuracy: 0.7558 - val_loss: 0.5729 - val_accuracy: 0.7052\n",
            "Epoch 100/100\n",
            "250/250 [==============================] - 1s 4ms/step - loss: 0.5010 - accuracy: 0.7556 - val_loss: 0.5754 - val_accuracy: 0.7042\n"
          ]
        },
        {
          "name": "stderr",
          "output_type": "stream",
          "text": [
            "C:\\Users\\Toshiba\\AppData\\Local\\Temp\\ipykernel_5500\\814429872.py:3: UserWarning: You are saving your model as an HDF5 file via `model.save()`. This file format is considered legacy. We recommend using instead the native Keras format, e.g. `model.save('my_model.keras')`.\n",
            "  tf.keras.models.save_model(model,'model_1.h5')\n"
          ]
        }
      ],
      "source": [
        "# siec neuronowa - trenowanie modelu\n",
        "history=model.fit(train_x,train_y,epochs=100,batch_size=100,validation_data=(validate_x,validate_y))\n",
        "tf.keras.models.save_model(model,'model_1.h5')"
      ]
    },
    {
      "cell_type": "markdown",
      "id": "4f124272",
      "metadata": {
        "id": "4f124272"
      },
      "source": [
        "After training, we save our model (weights and network structure) to a file with the \".h5\" extension using the save_model() function. Such a model can then be repeatedly loaded into memory and used in a classification task without the need for retraining."
      ]
    },
    {
      "cell_type": "code",
      "execution_count": 14,
      "id": "a7f48203",
      "metadata": {
        "colab": {
          "base_uri": "https://localhost:8080/",
          "height": 430
        },
        "id": "a7f48203",
        "outputId": "08196121-876e-4155-ecca-b40e45a47492"
      },
      "outputs": [
        {
          "data": {
            "image/png": "[encoded data removed]",
            "text/plain": [
              "<Figure size 432x288 with 1 Axes>"
            ]
          },
          "metadata": {
            "needs_background": "light"
          },
          "output_type": "display_data"
        }
      ],
      "source": [
        "plt.plot(history.history['loss'])\n",
        "plt.plot(history.history['accuracy'])\n",
        "plt.plot(history.history['val_loss'])\n",
        "plt.plot(history.history['val_accuracy'])\n",
        "plt.legend(['training loss','training accuracy','validation loss','validation accuracy'])\n",
        "plt.show()"
      ]
    },
    {
      "cell_type": "markdown",
      "id": "567e2e22",
      "metadata": {
        "id": "567e2e22"
      },
      "source": [
        "It should be noted here that the fit() function returns the loss function and metric values calculated for each epoch of the training process in the form of a tensor.\n",
        "\n",
        "We can use the trained model in practice in the following way:"
      ]
    },
    {
      "cell_type": "code",
      "execution_count": 15,
      "id": "2d97cb7a",
      "metadata": {
        "colab": {
          "base_uri": "https://localhost:8080/"
        },
        "id": "2d97cb7a",
        "outputId": "689b1502-be60-4aa4-f6b1-aa2aad085980"
      },
      "outputs": [
        {
          "name": "stdout",
          "output_type": "stream",
          "text": [
            "1/1 [==============================] - 0s 174ms/step\n",
            "0.3944836\n"
          ]
        }
      ],
      "source": [
        "# we use the trained model for classification of one vector (review)\n",
        "model=tf.keras.models.load_model('model_1.h5')\n",
        "print(model.predict(test_x[0:1])[0][0])"
      ]
    },
    {
      "cell_type": "markdown",
      "id": "9c99c964",
      "metadata": {
        "id": "9c99c964"
      },
      "source": [
        "We can evaluate the classification for the entire test set using the evaluate() function:"
      ]
    },
    {
      "cell_type": "code",
      "execution_count": 16,
      "id": "7f8e9b5c",
      "metadata": {
        "colab": {
          "base_uri": "https://localhost:8080/"
        },
        "id": "7f8e9b5c",
        "outputId": "a25b8655-3784-4208-c22e-04c150d45f92"
      },
      "outputs": [
        {
          "name": "stdout",
          "output_type": "stream",
          "text": [
            "391/391 [==============================] - 1s 3ms/step - loss: 0.5897 - accuracy: 0.6990\n",
            "Accuracy: 69.9 %\n"
          ]
        }
      ],
      "source": [
        "# we test our model for the whole test set\n",
        "model=tf.keras.models.load_model('model_1.h5')\n",
        "val=model.evaluate(test_x,test_y)\n",
        "print('Accuracy:',np.round(100*val[1],2),'%')"
      ]
    },
    {
      "cell_type": "markdown",
      "id": "8e9bf571",
      "metadata": {
        "id": "8e9bf571"
      },
      "source": [
        "---"
      ]
    },
    {
      "cell_type": "markdown",
      "id": "f8cda891",
      "metadata": {},
      "source": [
        "Increasing the Number of Keywords:\n",
        "Observation: Increasing the number of keywords positively impacted the learning process, leading to a higher accuracy.\n",
        "Recommendation: This suggests that a more extensive vocabulary representation may capture more nuanced information from reviews.\n",
        "Changing the Way of Representation of Text Data:\n",
        "\n",
        "Observation: You didn't specify how you changed the representation, but it's essential to experiment with different text representation techniques.\n",
        "Recommendation: Try approaches like TF-IDF, word embeddings (e.g., Word2Vec, GloVe), or more advanced techniques like BERT embeddings.\n",
        "\n",
        "Increasing the Number of Hidden Layers:\n",
        "Observation: Increasing the number of hidden layers and neurons had a positive impact on both the learning process and the final results.\n",
        "Recommendation: This indicates that a more complex network architecture with more layers can capture more intricate patterns. Be cautious of overfitting, and consider regularization techniques.\n",
        "\n",
        "Modifying (Increasing, Decreasing) the Number of Neurons:\n",
        "Observation: Adjusting the number of neurons had an impact on the classification results.\n",
        "Recommendation: Experiment further with different neuron configurations to find the right balance between model complexity and generalization.\n",
        "\n",
        "Replacing Loss Function from Binary Crossentropy to MSE:\n",
        "Observation: Drastic changes did not significantly impact the effectiveness of the model.\n",
        "Recommendation: It's common for classification tasks to use binary crossentropy. MSE is often used in regression tasks. Stick to binary crossentropy for classification problems unless you have specific reasons to use MSE.\n",
        "\n",
        "Converting the ReLU Activation Function into Sigmoid:\n",
        "Observation: Changing activation functions had some impact on accuracy.\n",
        "Recommendation: Experimenting with different activation functions is a good practice. Sigmoid is commonly used in the output layer for binary classification, but ReLU is often used in hidden layers. Consider experimenting with both to find the optimal combination.\n",
        "\n",
        "Additional Recommendations:\n",
        "Learning Rate and Optimizer: Experiment with different learning rates and optimizers (e.g., Adam, SGD) to find the most effective combination for your task.\n",
        "Batch Size: Adjusting the batch size can also have an impact on the learning process. Experiment with different batch sizes to find the optimal one.\n",
        "Early Stopping: Implement early stopping to prevent overfitting and find the point where the model generalizes well.\n",
        "Regularization: Consider using dropout or other regularization techniques to prevent overfitting, especially with deeper architectures."
      ]
    }
  ],
  "metadata": {
    "colab": {
      "provenance": []
    },
    "kernelspec": {
      "display_name": "Python 3 (ipykernel)",
      "language": "python",
      "name": "python3"
    },
    "language_info": {
      "codemirror_mode": {
        "name": "ipython",
        "version": 3
      },
      "file_extension": ".py",
      "mimetype": "text/x-python",
      "name": "python",
      "nbconvert_exporter": "python",
      "pygments_lexer": "ipython3",
      "version": "3.9.0"
    }
  },
  "nbformat": 4,
  "nbformat_minor": 5
}
